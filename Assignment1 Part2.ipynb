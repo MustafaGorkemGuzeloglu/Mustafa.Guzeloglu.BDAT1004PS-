{
 "cells": [
  {
   "cell_type": "markdown",
   "id": "974ed8ea",
   "metadata": {},
   "source": [
    "# Question 10"
   ]
  },
  {
   "cell_type": "code",
   "execution_count": 10,
   "id": "aac8ef3c",
   "metadata": {},
   "outputs": [
    {
     "name": "stdout",
     "output_type": "stream",
     "text": [
      "1, 1, 1, 3, 5, 1, 1, 2, 1, 0, 1, 0, 1, 2, 4, 0, 1, 2, 0, 2, 1, 0, 1, 1, 0, 0, "
     ]
    }
   ],
   "source": [
    "def frequencies(sentence): #to create function\n",
    "  letters = 'abcdefghijklmnopqrstuvwxyz' # Decleration of letters.\n",
    "  for a in letters: # We need \"for\" loop to check every letter in sentence.\n",
    "    print(sentence.count(a),end =\", \") # To print.\n",
    "\n",
    "example= \"The quick red fox got bored and went home.\"\n",
    "frequencies(example) #calling function.\n"
   ]
  },
  {
   "cell_type": "markdown",
   "id": "c4ff2610",
   "metadata": {},
   "source": [
    "# Question 9"
   ]
  },
  {
   "cell_type": "markdown",
   "id": "1ba1930a",
   "metadata": {},
   "source": [
    "1)\tUnsupported operand type(s) for +: 'int' and 'str'.\n",
    "2)\tlist index out of range.\n",
    "3)\tmath domain error\n",
    "4)\tname 'x' is not defined4\n",
    "5)  No such file or directory: 'CUR.txt.txt'. 'CUR.txt.txt' it is the name of file.\n"
   ]
  },
  {
   "cell_type": "markdown",
   "id": "c3ff6039",
   "metadata": {},
   "source": [
    "# Question 8"
   ]
  },
  {
   "cell_type": "code",
   "execution_count": 9,
   "id": "75e2f43d",
   "metadata": {},
   "outputs": [
    {
     "data": {
      "text/plain": [
       "122.96544"
      ]
     },
     "execution_count": 9,
     "metadata": {},
     "output_type": "execute_result"
    }
   ],
   "source": [
    "import pandas as pd  #Calling a dictionary.\n",
    "df = pd.read_csv(\"Cur.txt\", sep='\t',header=None) #Calling our local file to program.\n",
    "\n",
    "def curconv(money,value):# this is the function that make\n",
    "  \n",
    "  a=float(df[(df==money).any(axis=1)][1].values) #1 means that it will take numbers from file because they are in second columb\n",
    "  return (a*value) # This is the \"value x exchange rate\".\n",
    "\n",
    "curconv('EUR',100)  \n"
   ]
  },
  {
   "cell_type": "markdown",
   "id": "5ae4a4d7",
   "metadata": {},
   "source": [
    "# Question 7"
   ]
  },
  {
   "cell_type": "code",
   "execution_count": 11,
   "id": "14109782",
   "metadata": {},
   "outputs": [
    {
     "name": "stdout",
     "output_type": "stream",
     "text": [
      "There are 15 patients of blood type A\n",
      "There are 13 patients of blood type AB\n",
      "There are 1 patients of blood type B\n",
      "There are 15 patients of blood type O\n"
     ]
    }
   ],
   "source": [
    "import numpy as np\n",
    "text_file = open(\"Bloodtype.txt\", \"r\")\n",
    "\n",
    "lines = text_file.read().split(' ')\n",
    "values, counts = np.unique(lines, return_counts=True)\n",
    "for i in range(0,4):\n",
    "    print(\"There are \" + str(counts[i]) + ' patients of blood type ' + str(values[i]))\n"
   ]
  },
  {
   "cell_type": "markdown",
   "id": "8a34c852",
   "metadata": {},
   "source": [
    "# Question 6"
   ]
  },
  {
   "cell_type": "code",
   "execution_count": 4,
   "id": "28b74bc5",
   "metadata": {},
   "outputs": [
    {
     "name": "stdout",
     "output_type": "stream",
     "text": [
      "Happy orange\n",
      "The original sentence is:-\n",
      "Happy orange\n",
      "After changed:-\n",
      " appyHay orangeay\n"
     ]
    }
   ],
   "source": [
    "def char_isVowel(c): #this part is to check Vowels\n",
    "    vowel = ['A', 'E', 'I', 'O', 'U','a','e','i','o','u']\n",
    "    if c in vowel:\n",
    "        return True\n",
    "    else:\n",
    "        return False\n",
    "#Function to convert a word to PigLatin form\n",
    "def pig(s): \n",
    "    flag = False;\n",
    "    vow_index = 0\n",
    "    for i in range(len(s)): \n",
    "        if (char_isVowel(s[i])):\n",
    "            vow_index = i\n",
    "            flag = True; \n",
    "            break; \n",
    "    if (not flag): \n",
    "        return s; \n",
    "    pig = s[vow_index:] + s[0:vow_index] + \"ay\"\n",
    "    return pig \n",
    "#User gives us a input in this line.\n",
    "sentence=input()\n",
    "#If writer want to right more than one word. It wil split the words.\n",
    "list = sentence.split()\n",
    "#Printing the original sentence\n",
    "print(\"The original sentence is:-\")\n",
    "print(sentence)\n",
    "#It wil create empty string for new word.\n",
    "pig_str = \"\"\n",
    "#It wil take a word and thanks to the for loop it will take all words in the sentence.\n",
    "for word in list:\n",
    "    pig_str += \" \" + pig(word)\n",
    "#Printing the PigLatin sentence\n",
    "print(\"After changed:-\")\n",
    "print(pig_str)\n",
    "\n"
   ]
  }
 ],
 "metadata": {
  "kernelspec": {
   "display_name": "Python 3",
   "language": "python",
   "name": "python3"
  },
  "language_info": {
   "codemirror_mode": {
    "name": "ipython",
    "version": 3
   },
   "file_extension": ".py",
   "mimetype": "text/x-python",
   "name": "python",
   "nbconvert_exporter": "python",
   "pygments_lexer": "ipython3",
   "version": "3.8.8"
  }
 },
 "nbformat": 4,
 "nbformat_minor": 5
}
