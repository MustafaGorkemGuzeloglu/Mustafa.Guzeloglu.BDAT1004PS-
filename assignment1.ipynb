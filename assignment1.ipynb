{
 "cells": [
  {
   "cell_type": "markdown",
   "id": "3c62eafd",
   "metadata": {},
   "source": [
    "# Question 5"
   ]
  },
  {
   "cell_type": "code",
   "execution_count": 9,
   "id": "7b15ba41",
   "metadata": {},
   "outputs": [
    {
     "name": "stdout",
     "output_type": "stream",
     "text": [
      "For the first rectengule: False\n",
      "For the second rectengule: True"
     ]
    }
   ],
   "source": [
    "\n",
    "static bool inside(float x, float y, float x1, float y1, float x2, float y2) //Thanks to static bool it will turn as \"True\" or \"False\".\n",
    "        {\n",
    "            if (x > x1 && x < x2 && y > y1 && y < y2) // x should be between x1 and x2, thanks to x>x1 && x<x2 code we can understant that.\n",
    "            {\n",
    "                return true; // Thanks to \"return\" without check any other things function will give output.\"True\".\n",
    "            }\n",
    "            else\n",
    "            {\n",
    "                return false;  // Thanks to \"return\" without check any other things function will give output.\n",
    "            }\n",
    "        }\n",
    "\n",
    "float x1 = 0.3f, y1 = 0.5f, x2 = 1.1f, y2 = 0.7f;// x1 and y1 lower left corner and x2 and y2 upper right corner for the first rectangle.\n",
    "            float x1second = 0.5f, y1second = 0.2f, x2second = 1.1f, y2second = 2f;// x1second and y1second lower left corner. x2second and y2second upper right corner. For the second rectangle.\n",
    "            float x = 1, y = 1; // The point that we want to check.\n",
    "\n",
    "            Console.Write(\"For the first rectengule: \");\n",
    "            if (inside(x, y, x1, y1, x2, y2)) // We will call the function in this line. If we get true from \"inside\" function, \"if\" statement will work otherwise \"else\" will work.\n",
    "            {\n",
    "                Console.Write(\"True\");\n",
    "            }\n",
    "            else\n",
    "            {\n",
    "                Console.Write(\"False\");\n",
    "            }\n",
    "            Console.Write(\"\\nFor the second rectengule: \");\n",
    "            if (inside(x, y, x1second, y1second, x2second, y2second)) // We will call the function in this line. If we get true from \"inside\" function, \"if\" statement will work otherwise \"else\" will work.\n",
    "            {\n",
    "                Console.Write(\"True\");\n",
    "            }\n",
    "            else\n",
    "            {\n",
    "                Console.Write(\"False\");\n",
    "            }"
   ]
  },
  {
   "cell_type": "markdown",
   "id": "ef546094",
   "metadata": {},
   "source": [
    "# Question 4"
   ]
  },
  {
   "cell_type": "code",
   "execution_count": 43,
   "id": "88328338",
   "metadata": {},
   "outputs": [
    {
     "name": "stdout",
     "output_type": "stream",
     "text": [
      "Odd numbers are :31 69 5 \n",
      "Even numbers are :76 44 "
     ]
    }
   ],
   "source": [
    "\n",
    "\n",
    "int[] num = new int[5]; // To create a array.\n",
    "int[] odd = new int[5];\n",
    "int[] even = new int[5];\n",
    "\n",
    "int oddcounter = 0;\n",
    "int evencounter = 0;\n",
    "           \n",
    "num = new int[5] { 76, 31, 69, 44 ,5}; // To fill array.\n",
    "    for(int i = 0; i < 5;i++) \n",
    "{\n",
    "               \n",
    "int a = num[i];\n",
    "int remainder = a % 2; //We will divide numbers with 2, if remainder is 1 it mean that it is a odd numbers. if it is 0 it mean that it is even number.\n",
    "\n",
    "    if (remainder == 1) \n",
    "{\n",
    "            odd[oddcounter] = num[i];\n",
    "            oddcounter++;\n",
    "\n",
    "}\n",
    "    else\n",
    "{\n",
    "            even[evencounter] = num[i];\n",
    "            evencounter++;\n",
    "                   \n",
    "}\n",
    "}\n",
    "Console.Write(\"Odd numbers are :\");\n",
    "    for (int i = 0; i < oddcounter; i++)\n",
    "{\n",
    "        Console.Write(\"{0} \", odd[i]);\n",
    "}\n",
    "\n",
    "        Console.Write(\"\\nEven numbers are :\");\n",
    "        for (int i = 0; i < evencounter; i++)\n",
    "{\n",
    "        Console.Write(\"{0} \",even[i]);\n",
    "}\n"
   ]
  },
  {
   "cell_type": "markdown",
   "id": "dcbcc766",
   "metadata": {},
   "source": [
    "# Question 3"
   ]
  },
  {
   "cell_type": "code",
   "execution_count": 49,
   "id": "c840fea9",
   "metadata": {},
   "outputs": [
    {
     "name": "stdout",
     "output_type": "stream",
     "text": [
      "Area of Triangle(2,2,2) is 1,7320508 "
     ]
    }
   ],
   "source": [
    "static float Area(int a, int b,int c) //function\n",
    "{\n",
    "    float s = (a + b + c) / 2; //From formula.\n",
    "    return (float)Math.Sqrt(s * (s - a) *(s - b) * (s - c)); //From formula. Math.Sqrt is taking square.\n",
    "}\n",
    "\n",
    "    \n",
    "    \n",
    "int a = 2;\n",
    "int b = 2;\n",
    "int c = 2;\n",
    "Console.Write(\"Area of Triangle({0},{1},{2}) is {3} \" ,a,b,c,Area(a, b, c)); //we are using function which we write before to find area.\n",
    "    \n"
   ]
  },
  {
   "cell_type": "markdown",
   "id": "74620c2c",
   "metadata": {},
   "source": [
    "# Question 2 Part D"
   ]
  },
  {
   "cell_type": "code",
   "execution_count": 44,
   "id": "603b54e3",
   "metadata": {},
   "outputs": [
    {
     "name": "stdout",
     "output_type": "stream",
     "text": [
      "Berlioz Borodin Brian Bartok Bellini Buxtehude Bernstein \n",
      "After sorting\n",
      "Bartok Bellini Berlioz Bernstein Borodin Brian Buxtehude "
     ]
    }
   ],
   "source": [
    "\n",
    "string[] words = { \"Berlioz\", \"Borodin\", \"Brian\", \"Bartok\", \"Bellini\",\"Buxtehude\", \"Bernstein\"}; //These are the words that we want to sort.\n",
    "\n",
    "foreach (string item in words) // Before sorting, I will write words thanks to this loop.\n",
    "{\n",
    "    Console.Write(item); \n",
    "    Console.Write(' '); // It will put a space after every word.\n",
    "}\n",
    "\n",
    "            \n",
    "Array.Sort(words); // It will automatically sort words.\n",
    "Console.WriteLine(\"\\nAfter sorting\"); \n",
    "\n",
    "foreach (string item in words)// Thanks to this loop I will write sorted words.\n",
    "{\n",
    "    Console.Write(item); // it will right every word in \"words\" string.\n",
    "    Console.Write(' ');// It will put a space after every word.\n",
    "}\n"
   ]
  },
  {
   "cell_type": "markdown",
   "id": "0b55cbb8",
   "metadata": {},
   "source": [
    "# Question 2 Part C"
   ]
  },
  {
   "cell_type": "code",
   "execution_count": 42,
   "id": "4d6f31ad",
   "metadata": {},
   "outputs": [
    {
     "name": "stdout",
     "output_type": "stream",
     "text": [
      "there are 2 longest word and, they are Supercalifragilisticexpialidocious,and Bababadalgharaghtakamminarronnkonn  with 34 letters\r\n"
     ]
    },
    {
     "data": {
      "text/html": [
       "<null>"
      ]
     },
     "execution_count": 42,
     "metadata": {},
     "output_type": "execute_result"
    }
   ],
   "source": [
    "\n",
    "String a = \"Supercalifragilisticexpialidocious\"; // I created a string.\n",
    "string b = \" Honorificabilitudinitatibus\";       // I created a string.\n",
    "string c=   \"Bababadalgharaghtakamminarronnkonn\";// I created a string.\n",
    "int acounter = 0;\n",
    "int bcounter = 0;\n",
    "int ccounter = 0;\n",
    "foreach (char item in a) // This line will check every letter in the string\n",
    "{\n",
    "    acounter++; // It will raise +1 for every single letter\n",
    "}\n",
    "foreach (char item in b) // This line will check every letter in the string\n",
    "{\n",
    "    bcounter++; // It will raise +1 for every single letter\n",
    "}\n",
    "    foreach (char item in c) // This line will check every letter in the string\n",
    "{\n",
    "    ccounter++; // It will raise +1 for every single letter\n",
    "}\n",
    "int[] numbers = { acounter, bcounter, ccounter };\n",
    "int biggest = numbers.Max(); // This line will find maximum number\n",
    "    if (biggest == acounter) // if the longest word is firs one this \"if\" will be use.\n",
    "    {\n",
    "    if (acounter == bcounter) //Two word can consist equal letter so this line is looking for it. \n",
    "    {\n",
    "    Console.WriteLine(\"there are 2 longest word and, they are {0},and {1}  with {2} letters\", a,b, acounter);\n",
    "    return; //There is a return code here because if I found Longest two word I only want to write one time. For example Without this in the line 64 it will write third word again. \n",
    "    }\n",
    "    if (acounter == ccounter) //Two word can consist equal letter so this line is looking for it. \n",
    "    {\n",
    "                    Console.WriteLine(\"there are 2 longest word and, they are {0},and {1}  with {2} letters\", a, c, acounter);\n",
    "                    return;//There is a return code here because if I found Longest two word I only want to write one time.\n",
    "    }\n",
    "    else //If the first word is the longest and there are no other words of the same length, this line will be used.\n",
    "    {\n",
    "                    Console.WriteLine(\"Longest word is {0} with {1} letters\", a, acounter);  \n",
    "                    return;//There is a return code here because if I found Longest two word I only want to write one time.\n",
    "    }\n",
    "}\n",
    "\n",
    "if (biggest == bcounter)\n",
    "{\n",
    "if (bcounter == ccounter) //Two word can consist equal letter so this line is looking for it. I do not check \"acounter=bcounter\" because I already did in the first \"if\".\n",
    "{\n",
    "    Console.WriteLine(\"there are 2 longest word and, they are {0},and {1}  with {2} letters\", b, c, bcounter);\n",
    "    return; //There is a return code here because if I found Longest two word I only want to write one time.\n",
    "}\n",
    "else\n",
    "{\n",
    "    Console.WriteLine(\"Longest word is {0} with {1} letters\", b, bcounter);// If the seccond word is the longest and there are no other words of the same length, this line will be used.\n",
    "    return; //There is a return code here because if I found Longest two word I only want to write one time.\n",
    "}\n",
    "}\n",
    "            \n",
    "else\n",
    "{\n",
    "    Console.WriteLine(\"Longest word is {0} with {1} letters\", c, ccounter); //If the third word is the longest and there are no other words of the same length, this line will be used. \n",
    "    return; //There is a return code here because if I found Longest two word I only want to write one time.\n",
    "}\n",
    "        \n"
   ]
  },
  {
   "cell_type": "markdown",
   "id": "f8dd06ae",
   "metadata": {},
   "source": [
    "# Question 2 Part B"
   ]
  },
  {
   "cell_type": "code",
   "execution_count": 41,
   "id": "3ff13f12",
   "metadata": {},
   "outputs": [
    {
     "name": "stdout",
     "output_type": "stream",
     "text": [
      "Word contains ice in it\r\n"
     ]
    }
   ],
   "source": [
    "\n",
    "String s = \"Supercalifragilisticexpialidocious\"; // I created a string.\n",
    "string ice = \"ice\"; // I created another string to search \"ice\".\n",
    "            \n",
    "if (s.Contains(ice)) //this line will chech is there any \"ice\" in \"Supercalifragilisticexpialidocious\".\n",
    "{\n",
    "    Console.WriteLine(\"Word contains ice in it\"); // If answer is yes user will read this.\n",
    "}\n",
    "else\n",
    "{\n",
    "    Console.WriteLine(\"Word does not contain ice in it\"); // If answer is no user will read this.\n",
    "}"
   ]
  },
  {
   "cell_type": "markdown",
   "id": "367e1868",
   "metadata": {},
   "source": [
    "# Question 2 Part A"
   ]
  },
  {
   "cell_type": "markdown",
   "id": "813f2d69",
   "metadata": {},
   "source": [
    "\n",
    "String s = \"Supercalifragilisticexpialidocious\"; // I created a string.  \n",
    "int c = 0;\n",
    "foreach (char item in s) // This line will check every letter in the string  \n",
    "{\n",
    "    c++; // It will raise +1 every single letter  \n",
    "}\n",
    "Console.WriteLine(\"There are {0} letters in word\", c); // It will show numbers of letters  "
   ]
  },
  {
   "cell_type": "markdown",
   "id": "a6d332e2",
   "metadata": {},
   "source": [
    "# Question1\n",
    "\n",
    "  5   Integer  \n",
    "  5.0 Float  \n",
    "  5 > 1  bool  \n",
    " '5' string  \n",
    "  5 * 2 int  \n",
    " '5' * 2  string  \n",
    " '5' + '2'string  \n",
    "  5 / 2  float  \n",
    "  5 % 2 integer  \n",
    "  {5, 2, 1} Set  \n",
    "  5 == 3 Bool  \n",
    "  Pi (the number) Float  \n",
    "\n"
   ]
  },
  {
   "cell_type": "code",
   "execution_count": null,
   "id": "5b735682",
   "metadata": {},
   "outputs": [],
   "source": []
  }
 ],
 "metadata": {
  "kernelspec": {
   "display_name": ".NET (C#)",
   "language": "C#",
   "name": ".net-csharp"
  },
  "language_info": {
   "file_extension": ".cs",
   "mimetype": "text/x-csharp",
   "name": "C#",
   "pygments_lexer": "csharp",
   "version": "8.0"
  }
 },
 "nbformat": 4,
 "nbformat_minor": 5
}
